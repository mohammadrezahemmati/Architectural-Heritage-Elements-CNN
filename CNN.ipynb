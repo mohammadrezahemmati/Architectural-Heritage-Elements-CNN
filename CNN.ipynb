{
 "cells": [
  {
   "cell_type": "code",
   "execution_count": 1,
   "id": "cc284e08",
   "metadata": {},
   "outputs": [
    {
     "name": "stdout",
     "output_type": "stream",
     "text": [
      "WARNING:tensorflow:From E:\\Software\\Anaconda\\Lib\\site-packages\\keras\\src\\losses.py:2976: The name tf.losses.sparse_softmax_cross_entropy is deprecated. Please use tf.compat.v1.losses.sparse_softmax_cross_entropy instead.\n",
      "\n"
     ]
    }
   ],
   "source": [
    "from tensorflow.keras.models import Sequential\n",
    "from tensorflow.keras.utils import to_categorical\n",
    "from tensorflow.keras.models import Sequential\n",
    "from tensorflow.keras.layers import Conv2D, MaxPooling2D, Flatten,Dropout, Dense\n",
    "import numpy as np\n",
    "import os\n",
    "import cv2\n",
    "import matplotlib.pyplot as plt"
   ]
  },
  {
   "cell_type": "code",
   "execution_count": 2,
   "id": "ec00651b",
   "metadata": {},
   "outputs": [],
   "source": [
    "folder = 'train'\n",
    "images = []\n",
    "y_idx = []\n",
    "k = 0\n",
    "for i in os.listdir(folder):\n",
    "    for filename in os.listdir(os.path.join(folder,i)):\n",
    "        img = cv2.imread(os.path.join(os.path.join(folder,i),filename))\n",
    "        if img is not None:\n",
    "            images.append(img)\n",
    "            y_idx.append(k)\n",
    "    k = k + 1\n",
    "\n",
    "\n",
    "n_train = len(images)\n",
    "x_train = np.zeros((n_train, 64, 64, 3))\n",
    "y_train = np.zeros((n_train, 1))\n",
    "\n",
    "for i in range(n_train):\n",
    "    x_train[i,:,:,:] = images[i]\n",
    "    y_train[i] = y_idx[i]"
   ]
  },
  {
   "cell_type": "code",
   "execution_count": 3,
   "id": "80722f96",
   "metadata": {},
   "outputs": [],
   "source": [
    "folder = 'test'\n",
    "images = []\n",
    "y_idx = []\n",
    "k = 0\n",
    "for i in os.listdir(folder):\n",
    "    for filename in os.listdir(os.path.join(folder,i)):\n",
    "        img = cv2.imread(os.path.join(os.path.join(folder,i),filename))\n",
    "        if img is not None:\n",
    "            images.append(img)\n",
    "            y_idx.append(k)\n",
    "    k = k + 1\n",
    "    \n",
    "\n",
    "n_test = len(images)\n",
    "x_test = np.zeros((n_test, 64, 64, 3))\n",
    "y_test = np.zeros((n_test, 1))\n",
    "\n",
    "\n",
    "for i in range(n_test):\n",
    "    x_test[i,:,:,:] = images[i]\n",
    "    y_test[i] = y_idx[i]"
   ]
  },
  {
   "cell_type": "code",
   "execution_count": 4,
   "id": "724f79f9",
   "metadata": {},
   "outputs": [],
   "source": [
    "num_class = 10\n",
    "x_train = x_train.astype('float64') # change integers to 64-bit\n",
    "#floating point numbers\n",
    "x_test = x_test.astype('float64')\n",
    "x_train /= 255 # normalize the input\n",
    "x_test /= 255\n",
    "\n",
    "y_train = to_categorical(y_train, num_class)\n",
    "y_test = to_categorical(y_test, num_class)"
   ]
  },
  {
   "cell_type": "code",
   "execution_count": 5,
   "id": "76b92553",
   "metadata": {},
   "outputs": [
    {
     "name": "stdout",
     "output_type": "stream",
     "text": [
      "x_train shape: (10130, 64, 64, 3)\n",
      "y_train shape: (10130, 10)\n",
      "x_test shape: (1404, 64, 64, 3)\n",
      "y_test shape: (1404, 10)\n"
     ]
    }
   ],
   "source": [
    "print(\"x_train shape:\", x_train.shape)\n",
    "print(\"y_train shape:\", y_train.shape)\n",
    "print(\"x_test shape:\", x_test.shape)\n",
    "print(\"y_test shape:\", y_test.shape)"
   ]
  },
  {
   "cell_type": "code",
   "execution_count": 6,
   "id": "aead10ea",
   "metadata": {},
   "outputs": [
    {
     "name": "stdout",
     "output_type": "stream",
     "text": [
      "WARNING:tensorflow:From E:\\Software\\Anaconda\\Lib\\site-packages\\keras\\src\\backend.py:873: The name tf.get_default_graph is deprecated. Please use tf.compat.v1.get_default_graph instead.\n",
      "\n",
      "WARNING:tensorflow:From E:\\Software\\Anaconda\\Lib\\site-packages\\keras\\src\\layers\\pooling\\max_pooling2d.py:161: The name tf.nn.max_pool is deprecated. Please use tf.nn.max_pool2d instead.\n",
      "\n"
     ]
    }
   ],
   "source": [
    "model = Sequential()\n",
    "model.add(Conv2D(32, kernel_size=(3, 3), activation='relu', input_shape = (64,64,3)))\n",
    "model.add(MaxPooling2D(pool_size=(2, 2)))\n",
    "model.add(Conv2D(64, kernel_size=(3, 3), activation='relu'))\n",
    "model.add(MaxPooling2D(pool_size=(2, 2)))\n",
    "model.add(Flatten())\n",
    "model.add(Dropout(0.2))\n",
    "model.add(Dense(num_class, activation='softmax'))"
   ]
  },
  {
   "cell_type": "code",
   "execution_count": 7,
   "id": "9b541082",
   "metadata": {},
   "outputs": [
    {
     "name": "stdout",
     "output_type": "stream",
     "text": [
      "Model: \"sequential\"\n",
      "_________________________________________________________________\n",
      " Layer (type)                Output Shape              Param #   \n",
      "=================================================================\n",
      " conv2d (Conv2D)             (None, 62, 62, 32)        896       \n",
      "                                                                 \n",
      " max_pooling2d (MaxPooling2  (None, 31, 31, 32)        0         \n",
      " D)                                                              \n",
      "                                                                 \n",
      " conv2d_1 (Conv2D)           (None, 29, 29, 64)        18496     \n",
      "                                                                 \n",
      " max_pooling2d_1 (MaxPoolin  (None, 14, 14, 64)        0         \n",
      " g2D)                                                            \n",
      "                                                                 \n",
      " flatten (Flatten)           (None, 12544)             0         \n",
      "                                                                 \n",
      " dropout (Dropout)           (None, 12544)             0         \n",
      "                                                                 \n",
      " dense (Dense)               (None, 10)                125450    \n",
      "                                                                 \n",
      "=================================================================\n",
      "Total params: 144842 (565.79 KB)\n",
      "Trainable params: 144842 (565.79 KB)\n",
      "Non-trainable params: 0 (0.00 Byte)\n",
      "_________________________________________________________________\n"
     ]
    }
   ],
   "source": [
    "model.summary()"
   ]
  },
  {
   "cell_type": "code",
   "execution_count": 8,
   "id": "a6c60e14",
   "metadata": {},
   "outputs": [
    {
     "name": "stdout",
     "output_type": "stream",
     "text": [
      "WARNING:tensorflow:From E:\\Software\\Anaconda\\Lib\\site-packages\\keras\\src\\optimizers\\__init__.py:309: The name tf.train.Optimizer is deprecated. Please use tf.compat.v1.train.Optimizer instead.\n",
      "\n"
     ]
    }
   ],
   "source": [
    "model.compile(loss='categorical_crossentropy', optimizer='adam',metrics=['accuracy'])"
   ]
  },
  {
   "cell_type": "code",
   "execution_count": 9,
   "id": "b0001a0b",
   "metadata": {},
   "outputs": [
    {
     "name": "stdout",
     "output_type": "stream",
     "text": [
      "Epoch 1/10\n",
      "WARNING:tensorflow:From E:\\Software\\Anaconda\\Lib\\site-packages\\keras\\src\\utils\\tf_utils.py:492: The name tf.ragged.RaggedTensorValue is deprecated. Please use tf.compat.v1.ragged.RaggedTensorValue instead.\n",
      "\n",
      "WARNING:tensorflow:From E:\\Software\\Anaconda\\Lib\\site-packages\\keras\\src\\engine\\base_layer_utils.py:384: The name tf.executing_eagerly_outside_functions is deprecated. Please use tf.compat.v1.executing_eagerly_outside_functions instead.\n",
      "\n",
      "159/159 [==============================] - 17s 96ms/step - loss: 1.4393 - accuracy: 0.4839\n",
      "Epoch 2/10\n",
      "159/159 [==============================] - 15s 95ms/step - loss: 1.0078 - accuracy: 0.6563\n",
      "Epoch 3/10\n",
      "159/159 [==============================] - 15s 97ms/step - loss: 0.8725 - accuracy: 0.6991\n",
      "Epoch 4/10\n",
      "159/159 [==============================] - 16s 98ms/step - loss: 0.7756 - accuracy: 0.7317\n",
      "Epoch 5/10\n",
      "159/159 [==============================] - 16s 100ms/step - loss: 0.6880 - accuracy: 0.7615\n",
      "Epoch 6/10\n",
      "159/159 [==============================] - 16s 99ms/step - loss: 0.6364 - accuracy: 0.7855\n",
      "Epoch 7/10\n",
      "159/159 [==============================] - 16s 99ms/step - loss: 0.5526 - accuracy: 0.8109\n",
      "Epoch 8/10\n",
      "159/159 [==============================] - 16s 100ms/step - loss: 0.5010 - accuracy: 0.8281\n",
      "Epoch 9/10\n",
      "159/159 [==============================] - 16s 101ms/step - loss: 0.4486 - accuracy: 0.8467\n",
      "Epoch 10/10\n",
      "159/159 [==============================] - 16s 100ms/step - loss: 0.4125 - accuracy: 0.8581\n"
     ]
    }
   ],
   "source": [
    "history = model.fit(x_train, y_train, batch_size=64, epochs=10)"
   ]
  },
  {
   "cell_type": "code",
   "execution_count": 10,
   "id": "0c692d9b",
   "metadata": {},
   "outputs": [
    {
     "data": {
      "text/plain": [
       "Text(0, 0.5, 'accuracy')"
      ]
     },
     "execution_count": 10,
     "metadata": {},
     "output_type": "execute_result"
    },
    {
     "data": {
      "image/png": "[encoded data removed]",
      "text/plain": [
       "<Figure size 640x480 with 2 Axes>"
      ]
     },
     "metadata": {},
     "output_type": "display_data"
    }
   ],
   "source": [
    "plt.subplot(2,1,1)\n",
    "plt.plot(history.history['loss'], '*-')\n",
    "plt.xlabel('epochs')\n",
    "plt.ylabel('loss')\n",
    "plt.subplot(2,1,2)\n",
    "plt.plot(history.history['accuracy'],'*-')\n",
    "plt.xlabel('epochs')\n",
    "plt.ylabel('accuracy')"
   ]
  },
  {
   "cell_type": "code",
   "execution_count": 11,
   "id": "b1e2dfe4",
   "metadata": {},
   "outputs": [
    {
     "name": "stdout",
     "output_type": "stream",
     "text": [
      "44/44 [==============================] - 1s 14ms/step - loss: 0.8904 - accuracy: 0.7023\n",
      "loss on test data:  0.8903890252113342\n",
      "accuracy on test data: 0.7022792100906372\n"
     ]
    }
   ],
   "source": [
    "score = model.evaluate(x_test, y_test)\n",
    "print('loss on test data: ', score[0])\n",
    "print('accuracy on test data:', score[1])"
   ]
  }
 ],
 "metadata": {
  "kernelspec": {
   "display_name": "Python 3 (ipykernel)",
   "language": "python",
   "name": "python3"
  },
  "language_info": {
   "codemirror_mode": {
    "name": "ipython",
    "version": 3
   },
   "file_extension": ".py",
   "mimetype": "text/x-python",
   "name": "python",
   "nbconvert_exporter": "python",
   "pygments_lexer": "ipython3",
   "version": "3.11.5"
  }
 },
 "nbformat": 4,
 "nbformat_minor": 5
}
